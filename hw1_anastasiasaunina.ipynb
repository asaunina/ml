{
  "cells": [
    {
      "cell_type": "markdown",
      "metadata": {
        "id": "_XOkxxbxrFML"
      },
      "source": [
        "## Домашнее задание 1 (5 баллов)\n",
        "\n",
        "Все задания ниже имеют равный вес (5/10)."
      ]
    },
    {
      "cell_type": "markdown",
      "metadata": {
        "id": "36NhsuI-rFMM"
      },
      "source": [
        "### О задании\n",
        "\n",
        "В этом домашнем задании вы попрактикуетесь в работе с библиотекой numpy, которая позволяет сравнительно легко и удобно выполнять разнообразные вычисления, избегая самостоятельной реализации поэлементной обработки."
      ]
    },
    {
      "cell_type": "markdown",
      "metadata": {
        "id": "9mopoXOMrFMN"
      },
      "source": [
        "Во всех задачах необходимо написать код решения внутри функции и убедиться, что она работает, с помощью [assert](https://python-reference.readthedocs.io/en/latest/docs/statements/assert.html) на выражение с использованием этой функции для данных из условия.\n",
        "\n",
        "При решении задач запрещается использовать циклы (`for`, `while`) и оператор `if`.\n",
        "\n",
        "Везде, где встречаются массивы или матрицы, подразумевается, что это `numpy.array`.\n",
        "\n",
        "**numpy reference:** https://numpy.org/doc/stable/reference/index.html"
      ]
    },
    {
      "cell_type": "code",
      "execution_count": null,
      "metadata": {
        "pycharm": {
          "name": "#%%\n"
        },
        "id": "6ofg87fvrFMN"
      },
      "outputs": [],
      "source": [
        "import numpy as np"
      ]
    },
    {
      "cell_type": "markdown",
      "metadata": {
        "id": "DEInQPJsrFMO"
      },
      "source": [
        "### Задание 1"
      ]
    },
    {
      "cell_type": "markdown",
      "metadata": {
        "id": "vPfKxmRUrFMO"
      },
      "source": [
        "Напишите функцию, возвращающую округленную взвешенную сумму оценок по данным оценкам и весам. Можете посчитать свою оценку за курс :) В нашем случае вес экзамена равен 0.3, вес домашек - 0.4, вес контрольной - 0.2, вес самостоятельных - 0.1. Например, если за экзамен у вас 7, за домашки 10, за контрольную 8, а за самостоятельные 6, то вы получите отличную оценку 8!"
      ]
    },
    {
      "cell_type": "code",
      "execution_count": null,
      "metadata": {
        "pycharm": {
          "name": "#%%\n"
        },
        "id": "40IhdItrrFMO"
      },
      "outputs": [],
      "source": [
        "def result_mark(weights: np.array, marks: np.array) -> int:\n",
        "    # считаем, сколько за каждый элемент контроля получилось\n",
        "    # вес умножить на полученную за элемент оценку\n",
        "    marks_and_weights = weights * marks\n",
        "    # суммируем произведение весов и оценок и получаем неокругленную оценку\n",
        "    res_mark = marks_and_weights.sum()\n",
        "    # возвращаем округленную оценку\n",
        "    return round(res_mark)"
      ]
    },
    {
      "cell_type": "code",
      "execution_count": null,
      "metadata": {
        "pycharm": {
          "name": "#%%\n"
        },
        "id": "47xIM9i4rFMO"
      },
      "outputs": [],
      "source": [
        "weights = np.array([0.3, 0.4, 0.2, 0.1])\n",
        "marks = np.array([7, 10, 8, 6])\n",
        "\n",
        "assert result_mark(weights, marks) == 8"
      ]
    },
    {
      "cell_type": "code",
      "execution_count": null,
      "metadata": {
        "pycharm": {
          "name": "#%%\n"
        },
        "id": "-TKCAf0HrFMO"
      },
      "outputs": [],
      "source": [
        "weights = np.array([0.3, 0.4, 0.2, 0.1])\n",
        "marks = np.array([7, 0, 8, 6])\n",
        "\n",
        "assert result_mark(weights, marks) == 4"
      ]
    },
    {
      "cell_type": "markdown",
      "metadata": {
        "id": "fmYaMY0zrFMO"
      },
      "source": [
        "### Задание 2"
      ]
    },
    {
      "cell_type": "markdown",
      "metadata": {
        "id": "MY9Gxk2ZrFMO"
      },
      "source": [
        "Напишите функцию, меняющую каждое третье (начиная с 0) значение массива целых чисел на заданное число. Например, если на вход поступает массив `array([3, 5, 1, 0, -3, 22, 213436])` и число `-111`, то на выходе должен получиться массив `array([-111, 5, 1, -111, -3, 22, -111])`."
      ]
    },
    {
      "cell_type": "code",
      "execution_count": null,
      "metadata": {
        "pycharm": {
          "name": "#%%\n"
        },
        "id": "a4TreunxrFMP"
      },
      "outputs": [],
      "source": [
        "def change_array(array: np.array, number: int) -> np.array:\n",
        "    # от нулевого до последнего элемента с шагом 3 меняем элемент на введенное число\n",
        "    array[::3] = number\n",
        "    # возвращаем получившийся массив\n",
        "    return array"
      ]
    },
    {
      "cell_type": "code",
      "execution_count": null,
      "metadata": {
        "pycharm": {
          "name": "#%%\n"
        },
        "id": "oV0mffrorFMP"
      },
      "outputs": [],
      "source": [
        "array = np.array([3, 5, 1, 0, -3, 22, 213436])\n",
        "number = -111\n",
        "\n",
        "assert np.allclose(change_array(array, number), np.array([-111, 5, 1, -111, -3, 22, -111]))"
      ]
    },
    {
      "cell_type": "code",
      "execution_count": null,
      "metadata": {
        "pycharm": {
          "name": "#%%\n"
        },
        "id": "xY32UthPrFMP"
      },
      "outputs": [],
      "source": [
        "array = np.array([3, 14, 15, 92, 6])\n",
        "number = 8\n",
        "\n",
        "assert np.allclose(change_array(array, number), np.array([8, 14, 15, 8, 6]))"
      ]
    },
    {
      "cell_type": "markdown",
      "metadata": {
        "id": "swCmd7NfrFMP"
      },
      "source": [
        "### Задание 3"
      ]
    },
    {
      "cell_type": "markdown",
      "metadata": {
        "id": "euYwhuP1rFMP"
      },
      "source": [
        "Напишите функцию, выдающую индексы «близких» элементов заданных массивов, а именно тех пар элементов, чей модуль разницы не превосходит заданного значения. Например, если на вход поступают массив `array([1.5, 0.5, 2, -4.1, -3, 6, -1])`, массив `array([1.2, 0.5, 1, -4, 3, 0, -1.2])` и число `0.5`, то на выходе должен получиться массив `array([0, 1, 3, 6])` (**важно: не `tuple`, а одномерный массив типа `numpy.ndarray` (то есть `.ndim` от него равно 1)!**)."
      ]
    },
    {
      "cell_type": "code",
      "execution_count": null,
      "metadata": {
        "pycharm": {
          "name": "#%%\n"
        },
        "id": "FPIIjMDtrFMP"
      },
      "outputs": [],
      "source": [
        "def find_close(array1: np.array, array2: np.array,\n",
        "               precision: float) -> np.array:\n",
        "    # в массиве diff_array хранится модуль разницы элементов двух массивов\n",
        "    diff_array = np.abs(array1 - array2)\n",
        "    # в fin_array -- разница между полученными выше значениями и введенным числом\n",
        "    fin_array = diff_array - precision\n",
        "    # возвращаем такие числа, где полученные числа не превосходят 0\n",
        "    # чтобы получился numpy.ndarray берем 0 элемент после функции [0]\n",
        "    return np.array(np.where(fin_array <= 0)[0])"
      ]
    },
    {
      "cell_type": "code",
      "execution_count": null,
      "metadata": {
        "pycharm": {
          "name": "#%%\n"
        },
        "id": "nWuOvVqNrFMP"
      },
      "outputs": [],
      "source": [
        "array1 = np.array([1.5, 0.5, 2, -4.1, -3, 6, -1])\n",
        "array2 = np.array([1.2, 0.5, 1, -4.0,  3, 0, -1.2])\n",
        "precision = 0.5\n",
        "res = find_close(array1, array2, precision)\n",
        "\n",
        "assert res.ndim == 1\n",
        "assert np.allclose(res, np.array([0, 1, 3, 6]))"
      ]
    },
    {
      "cell_type": "code",
      "execution_count": null,
      "metadata": {
        "pycharm": {
          "name": "#%%\n"
        },
        "id": "kcZxt5xirFMP"
      },
      "outputs": [],
      "source": [
        "array1 = np.array([3.1415, 2.7182, 1.6180, 6.6261])\n",
        "array2 = np.array([6.6730, 1.3807, -1,     6.0222])\n",
        "precision = 1.7\n",
        "res = find_close(array1, array2, precision)\n",
        "\n",
        "assert res.ndim == 1\n",
        "assert np.allclose(res, np.array([1, 3]))"
      ]
    },
    {
      "cell_type": "markdown",
      "metadata": {
        "id": "9qW24a81rFMQ"
      },
      "source": [
        "### Задание 4"
      ]
    },
    {
      "cell_type": "markdown",
      "metadata": {
        "id": "rK8IAYNPrFMQ"
      },
      "source": [
        "Напишите функцию, которая составляет блочную матрицу из четырех блоков, где каждый блок - это заданная матрица. Например, если на вход поступает матрица\n",
        "$$\n",
        "\\begin{pmatrix}\n",
        "0 & 1 & 2\\\\\n",
        "3 & 4 & 5\\\\\n",
        "\\end{pmatrix},\n",
        "$$\n",
        "то ответом будет матрица\n",
        "$$\n",
        "\\begin{pmatrix}\n",
        "0 & 1 & 2 & 0 & 1 & 2\\\\\n",
        "3 & 4 & 5 & 3 & 4 & 5\\\\\n",
        "0 & 1 & 2 & 0 & 1 & 2\\\\\n",
        "3 & 4 & 5 & 3 & 4 & 5\\\\\n",
        "\\end{pmatrix}\n",
        "$$"
      ]
    },
    {
      "cell_type": "code",
      "execution_count": null,
      "metadata": {
        "pycharm": {
          "name": "#%%\n"
        },
        "id": "4_3TSiEBrFMQ"
      },
      "outputs": [],
      "source": [
        "def block_matrix(block: np.array) -> np.array:\n",
        "    # создаем промежуточный массив, где получаем повторение матрицы вниз (вертикально)\n",
        "    mid_arr = np.vstack((block, block))\n",
        "    # в итоге выводим две промежуточные матрицы, записанные горизонтально друг с другом\n",
        "    return np.hstack((mid_arr, mid_arr))"
      ]
    },
    {
      "cell_type": "code",
      "execution_count": null,
      "metadata": {
        "pycharm": {
          "name": "#%%\n"
        },
        "id": "R60rMsxXrFMQ"
      },
      "outputs": [],
      "source": [
        "block = np.array([[1, 3, 3], [7, 0, 0]])\n",
        "\n",
        "assert np.allclose(\n",
        "    block_matrix(block),\n",
        "    np.array([[1, 3, 3, 1, 3, 3],\n",
        "              [7, 0, 0, 7, 0, 0],\n",
        "              [1, 3, 3, 1, 3, 3],\n",
        "              [7, 0, 0, 7, 0, 0]])\n",
        ")"
      ]
    },
    {
      "cell_type": "markdown",
      "metadata": {
        "id": "n43kCCHdrFMQ"
      },
      "source": [
        "### Задание 5"
      ]
    },
    {
      "cell_type": "markdown",
      "metadata": {
        "id": "uen5hBofrFMQ"
      },
      "source": [
        "Напишите функцию, вычисляющую произведение всех ненулевых диагональных элементов на диагонали данной квадратной матрицы. Например, если на вход поступает матрица\n",
        "$$\n",
        "\\begin{pmatrix}\n",
        "0 & 1 & 2\\\\\n",
        "3 & 4 & 5\\\\\n",
        "6 & 7 & 8\\\\\n",
        "\\end{pmatrix},\n",
        "$$\n",
        "то ответом будет 32.\n",
        "\n",
        "Элементы матрицы считать целочисленными."
      ]
    },
    {
      "cell_type": "code",
      "execution_count": null,
      "metadata": {
        "pycharm": {
          "name": "#%%\n"
        },
        "id": "yE3nAddzrFMQ"
      },
      "outputs": [],
      "source": [
        "def diag_prod(matrix: np.array) -> int:\n",
        "    # находим диагональ введенной матрицы\n",
        "    diagonal = np.diag(matrix)\n",
        "    # ненулевые значения диагонали\n",
        "    diag_not_null = diagonal[diagonal != 0]\n",
        "    # произведение ненулевых значений\n",
        "    return np.prod(diag_not_null)"
      ]
    },
    {
      "cell_type": "code",
      "execution_count": null,
      "metadata": {
        "pycharm": {
          "name": "#%%\n"
        },
        "id": "xIdJG6gsrFMQ"
      },
      "outputs": [],
      "source": [
        "matrix = np.array([[0, 1, 2, 3],\n",
        "                   [4, 5, 6, 7],\n",
        "                   [8, 9, 10, 11],\n",
        "                   [12, 13, 14, 15]])\n",
        "\n",
        "assert diag_prod(matrix) == 750"
      ]
    },
    {
      "cell_type": "markdown",
      "metadata": {
        "id": "jPq1F595rFMQ"
      },
      "source": [
        "### Задание 6"
      ]
    },
    {
      "cell_type": "markdown",
      "metadata": {
        "id": "DjFAhHOArFMQ"
      },
      "source": [
        "Для улучшения качества работы некоторых алгоритмов машинного обучения может быть полезно использовать [нормализацию данных](https://vk.cc/8xmfQk), чтобы привести признаки в выборке к одному масштабу — а именно, из каждого столбца вычесть среднее его значений и поделить на их стандартное отклонение. Напишите функцию, нормализующую входящую матрицу (по столбцам). Например, если на вход подается матрица\n",
        "$$\n",
        "\\begin{pmatrix}\n",
        "1 & 4 & 4200\\\\\n",
        "0 & 10 & 5000\\\\\n",
        "1 & 2 & 1000\\\\\n",
        "\\end{pmatrix},\n",
        "$$\n",
        "то результатом с точностью до сотых будет матрица\n",
        "$$\n",
        "\\begin{pmatrix}\n",
        "0.71 & -0.39 & 0.46\\\\\n",
        "-1.41 & 1.37 & 0.93\\\\\n",
        "0.71 & -0.98 & -1.39\\\\\n",
        "\\end{pmatrix}\n",
        "$$\n",
        "\n",
        "Учтите, что в вашем матрице не должно получаться никаких nan. Подумайте, в каком случае они могут возникнуть и как обойти эту проблему.\n",
        "\n",
        "_Подсказка. Казалось бы, при чем тут деление на ноль._"
      ]
    },
    {
      "cell_type": "code",
      "execution_count": null,
      "metadata": {
        "pycharm": {
          "name": "#%%\n"
        },
        "id": "raYZ3jMurFMQ"
      },
      "outputs": [],
      "source": [
        "def normalize(matrix: np.array) -> np.array:\n",
        "    # находим среднее значение для каждого столбца\n",
        "    mean = np.mean(matrix, axis=0)\n",
        "    # находим стандартное отклонение для каждого столбца\n",
        "    std = np.std(matrix, axis=0)\n",
        "    # с помощью функции np.divide() находим результат от деления разницы со средними значения на стандартное отклонение\n",
        "    # в matrix-mean -- результат вычитания из матрицы средних значений для каждого столбца\n",
        "    # смотрим, чтобы не было деления на ноль: std != 0\n",
        "    return np.divide(matrix-mean, std, where=std != 0)"
      ]
    },
    {
      "cell_type": "code",
      "execution_count": null,
      "metadata": {
        "pycharm": {
          "name": "#%%\n"
        },
        "id": "soyx_ulVrFMQ"
      },
      "outputs": [],
      "source": [
        "matrix = np.array([[1, 4, 4200], [0, 10, 5000], [1, 2, 1000]])\n",
        "\n",
        "assert np.allclose(\n",
        "    normalize(matrix),\n",
        "    np.array([[ 0.7071, -0.39223,  0.46291],\n",
        "              [-1.4142,  1.37281,  0.92582],\n",
        "              [ 0.7071, -0.98058, -1.38873]])\n",
        ")"
      ]
    },
    {
      "cell_type": "code",
      "execution_count": null,
      "metadata": {
        "pycharm": {
          "name": "#%%\n"
        },
        "id": "nTuYyYfErFMQ"
      },
      "outputs": [],
      "source": [
        "matrix = np.array([[-7, 2, 42], [2, 10, 50], [5, 4, 10]])\n",
        "\n",
        "assert np.allclose(\n",
        "    normalize(matrix),\n",
        "    np.array([[-1.37281, -0.98058,  0.46291],\n",
        "              [ 0.39223,  1.37281,  0.92582],\n",
        "              [ 0.98058, -0.39223, -1.38873]])\n",
        ")"
      ]
    },
    {
      "cell_type": "markdown",
      "metadata": {
        "id": "C9gyZM-trFMR"
      },
      "source": [
        "### Задание 7"
      ]
    },
    {
      "cell_type": "markdown",
      "metadata": {
        "id": "d99Df-WtrFMR"
      },
      "source": [
        "Написать функцию, возвращающую максимальный элемент в векторе x среди элементов, перед которыми стоит нулевой. <br>\n",
        "Для x = np.array([6, 2, 0, 3, 0, 0, 5, 7, 0]) ответом является 5."
      ]
    },
    {
      "cell_type": "code",
      "execution_count": null,
      "metadata": {
        "pycharm": {
          "name": "#%%\n"
        },
        "id": "urpjqMYZrFMR"
      },
      "outputs": [],
      "source": [
        "def prevZeroMax(matrix: np.array) -> int:\n",
        "    # здесь хранятся индексы чисел после 0 в исходной матрице\n",
        "    indexes = np.where(matrix == 0)[0] + 1\n",
        "    # последним элементом добавляем None, чтобы не было ошибки в случае, если 0 -- последний элемент\n",
        "    matrix = np.append(matrix, None)\n",
        "    # находим все, что после нулей\n",
        "    after_zeros = matrix[indexes]\n",
        "    # удаляем из полученного массив добавленный нами None, если он там был\n",
        "    after_zeros = after_zeros[after_zeros != None]\n",
        "    # находим максимум из получившихся чисел\n",
        "    return max(after_zeros)"
      ]
    },
    {
      "cell_type": "code",
      "execution_count": null,
      "metadata": {
        "pycharm": {
          "name": "#%%\n"
        },
        "id": "YV0T1GpLrFMR"
      },
      "outputs": [],
      "source": [
        "coefs = np.array([6, 2, 0, 3, 0, 0, 5, 7, 0])\n",
        "\n",
        "assert  prevZeroMax(coefs) == 5"
      ]
    },
    {
      "cell_type": "code",
      "execution_count": null,
      "metadata": {
        "pycharm": {
          "name": "#%%\n"
        },
        "id": "8SMJDLq6rFMR"
      },
      "outputs": [],
      "source": [
        "coefs = np.array([1, 0, 1, 0, 4, 2, 0])\n",
        "\n",
        "assert prevZeroMax(coefs) == 4\n"
      ]
    },
    {
      "cell_type": "markdown",
      "metadata": {
        "id": "ifKNzziBrFMR"
      },
      "source": [
        "### Задание 8"
      ]
    },
    {
      "cell_type": "markdown",
      "metadata": {
        "id": "vNMnfqFlrFMR"
      },
      "source": [
        "Напишите функцию, делающую данную [треугольную матрицу](https://ru.wikipedia.org/wiki/%D0%A2%D1%80%D0%B5%D1%83%D0%B3%D0%BE%D0%BB%D1%8C%D0%BD%D0%B0%D1%8F_%D0%BC%D0%B0%D1%82%D1%80%D0%B8%D1%86%D0%B0) симметричной. Например, если на вход поступает матрица\n",
        "$$\n",
        "\\begin{pmatrix}\n",
        "1 & 2 & 3 & 4\\\\\n",
        "0 & 5 & 6 & 7\\\\\n",
        "0 & 0 & 8 & 9\\\\\n",
        "0 & 0 & 0 & 10\\\\\n",
        "\\end{pmatrix},\n",
        "$$\n",
        "то на выходе должна быть матрица\n",
        "$$\n",
        "\\begin{pmatrix}\n",
        "1 & 2 & 3 & 4\\\\\n",
        "2 & 5 & 6 & 7\\\\\n",
        "3 & 6 & 8 & 9\\\\\n",
        "4 & 7 & 9 & 10\\\\\n",
        "\\end{pmatrix}.\n",
        "$$"
      ]
    },
    {
      "cell_type": "code",
      "execution_count": null,
      "metadata": {
        "pycharm": {
          "name": "#%%\n"
        },
        "id": "hv3YKUPOrFMY"
      },
      "outputs": [],
      "source": [
        "def make_symmetric(matrix: np.array) -> np.array:\n",
        "    # находим транспонированную матрицу\n",
        "    transposed_matrix = matrix.transpose()\n",
        "    # находим диагональ матрицы (она совпадает у транспонированной о обычной)\n",
        "    diagonal = np.diag(transposed_matrix)\n",
        "    # создаем новую матрицу путем сложения обычной и транспонированной\n",
        "    # т.к. в обеих матрицах нули выше или ниже диагонали, то все, кроме диагонали получится тем, что надо\n",
        "    new_matrix = matrix + transposed_matrix\n",
        "    # заполняем диагональ новой полученной матрицы значениями диагонали, полученными ранее из исходной матрицы\n",
        "    np.fill_diagonal(new_matrix, diagonal)\n",
        "    # возвращаем новую матрицу\n",
        "    return new_matrix"
      ]
    },
    {
      "cell_type": "code",
      "execution_count": null,
      "metadata": {
        "pycharm": {
          "name": "#%%\n"
        },
        "id": "ME3dgnzgrFMY"
      },
      "outputs": [],
      "source": [
        "matrix = np.array([[1, 2, 3, 4], [0, 5, 6, 7], [0, 0, 8, 9], [0, 0, 0, 10]])\n",
        "\n",
        "assert np.allclose(\n",
        "    make_symmetric(matrix),\n",
        "    np.array([[ 1,  2,  3,  4],\n",
        "              [ 2,  5,  6,  7],\n",
        "              [ 3,  6,  8,  9],\n",
        "              [ 4,  7,  9, 10]])\n",
        ")"
      ]
    },
    {
      "cell_type": "code",
      "execution_count": null,
      "metadata": {
        "pycharm": {
          "name": "#%%\n"
        },
        "id": "13NXkQQfrFMY"
      },
      "outputs": [],
      "source": [
        "matrix = np.array([[10, 21, 32, 49], [0, 53, 62, 78], [0, 0, 82, 92], [0, 0, 0, 10]])\n",
        "\n",
        "assert np.allclose(\n",
        "    make_symmetric(matrix),\n",
        "    np.array([[10, 21, 32, 49],\n",
        "              [21, 53, 62, 78],\n",
        "              [32, 62, 82, 92],\n",
        "              [49, 78, 92, 10]])\n",
        ")"
      ]
    },
    {
      "cell_type": "markdown",
      "metadata": {
        "id": "hpmYKA4DrFMY"
      },
      "source": [
        "### Задание 9"
      ]
    },
    {
      "cell_type": "markdown",
      "metadata": {
        "id": "CvhFNPC0rFMY"
      },
      "source": [
        "Напишите функцию, создающую прямоугольную матрицу из m одинаковых строк, заполненных последовательными натуральными числами от a до b включительно в возрастающем порядке. Например, если m = 5, a = 3, b = 10, то на выходе будет матрица\n",
        "$$\n",
        "\\begin{pmatrix}\n",
        "3 & 4 & 5 & 6 & 7 & 8 & 9 & 10\\\\\n",
        "3 & 4 & 5 & 6 & 7 & 8 & 9 & 10\\\\\n",
        "3 & 4 & 5 & 6 & 7 & 8 & 9 & 10\\\\\n",
        "3 & 4 & 5 & 6 & 7 & 8 & 9 & 10\\\\\n",
        "3 & 4 & 5 & 6 & 7 & 8 & 9 & 10\\\\\n",
        "\\end{pmatrix}\n",
        "$$"
      ]
    },
    {
      "cell_type": "code",
      "execution_count": null,
      "metadata": {
        "pycharm": {
          "name": "#%%\n"
        },
        "id": "vBoWIPzRrFMY"
      },
      "outputs": [],
      "source": [
        "def construct_matrix(m: int, a: int, b: int) -> np.array:\n",
        "    # создаем массив из последовательных чисел от a до b включительно\n",
        "    matrix = np.arange(a, b + 1)\n",
        "    # возвращаем матрицу с помощью функции tile, повторенную m раз по вертикали\n",
        "    return np.tile(matrix, (m,1))"
      ]
    },
    {
      "cell_type": "code",
      "execution_count": null,
      "metadata": {
        "pycharm": {
          "name": "#%%\n"
        },
        "id": "5Yy2OIoErFMZ"
      },
      "outputs": [],
      "source": [
        "m = 5\n",
        "a = 3\n",
        "b = 10\n",
        "\n",
        "assert np.allclose(\n",
        "    construct_matrix(m, a, b),\n",
        "    np.array([[ 3,  4,  5,  6,  7,  8,  9, 10],\n",
        "              [ 3,  4,  5,  6,  7,  8,  9, 10],\n",
        "              [ 3,  4,  5,  6,  7,  8,  9, 10],\n",
        "              [ 3,  4,  5,  6,  7,  8,  9, 10],\n",
        "              [ 3,  4,  5,  6,  7,  8,  9, 10]])\n",
        ")"
      ]
    },
    {
      "cell_type": "code",
      "execution_count": null,
      "metadata": {
        "pycharm": {
          "name": "#%%\n"
        },
        "id": "TyRE2IYPrFMZ"
      },
      "outputs": [],
      "source": [
        "m = 3\n",
        "a = 2\n",
        "b = 6\n",
        "\n",
        "assert np.allclose(\n",
        "    construct_matrix(m, a, b),\n",
        "    np.array([[2, 3, 4, 5, 6],\n",
        "              [2, 3, 4, 5, 6],\n",
        "              [2, 3, 4, 5, 6]])\n",
        ")"
      ]
    },
    {
      "cell_type": "markdown",
      "metadata": {
        "id": "z7EJU5VMrFMZ"
      },
      "source": [
        "### Задание 10"
      ]
    },
    {
      "cell_type": "markdown",
      "metadata": {
        "id": "BGSPU4_-rFMZ"
      },
      "source": [
        "Напишите функцию, вычисляющую [косинусную близость](https://en.wikipedia.org/wiki/Cosine_similarity) двух векторов. Например, если на вход поступают вектора `array([-2, 1, 0, -5, 4, 3, -3])` и `array([0, 2, -2, 10, 6, 0, 0])`, ответом будет -0.25."
      ]
    },
    {
      "cell_type": "code",
      "source": [
        "import numpy as np"
      ],
      "metadata": {
        "id": "bRIZeOITkYm1"
      },
      "execution_count": null,
      "outputs": []
    },
    {
      "cell_type": "code",
      "source": [
        "np.linalg.norm()"
      ],
      "metadata": {
        "id": "_B4krhYuka8X"
      },
      "execution_count": null,
      "outputs": []
    },
    {
      "cell_type": "code",
      "execution_count": null,
      "metadata": {
        "pycharm": {
          "name": "#%%\n"
        },
        "id": "uZEqxt4prFMZ"
      },
      "outputs": [],
      "source": [
        "def cosine_similarity(vec1: np.array, vec2: np.array) -> float:\n",
        "    # находим скалярное произведение векторов (сумма попарных произведений координат)\n",
        "    cosine_distance = sum(vec1 * vec2)\n",
        "    # находим длину первого вектора (корень из суммы квадратов координат)\n",
        "    vec1_length = (sum(vec1**2))**0.5\n",
        "    # находим длину второго вектора (корень из суммы квадратов координат)\n",
        "    vec2_length = (sum(vec2**2))**0.5\n",
        "    # возвращаем скалярное произведение, деленное на произведение длин векторов\n",
        "    return cosine_distance/(vec1_length*vec2_length)"
      ]
    },
    {
      "cell_type": "code",
      "execution_count": null,
      "metadata": {
        "pycharm": {
          "name": "#%%\n"
        },
        "id": "xJyUa2LIrFMZ"
      },
      "outputs": [],
      "source": [
        "vec1 = np.array([-2, 1,  0, -5, 4, 3, -3])\n",
        "vec2 = np.array([ 0, 2, -2, 10, 6, 0,  0])\n",
        "\n",
        "assert np.allclose(cosine_similarity(vec1, vec2), -0.25)"
      ]
    },
    {
      "cell_type": "code",
      "execution_count": null,
      "metadata": {
        "pycharm": {
          "name": "#%%\n"
        },
        "id": "Qz-9RQesrFMZ"
      },
      "outputs": [],
      "source": [
        "vec1 = np.array([-4, 2,  9, -8, 9, 0, -2])\n",
        "vec2 = np.array([ 3, 2, -4, -1, 3, 2,  2])\n",
        "\n",
        "assert np.allclose(cosine_similarity(vec1, vec2), -0.119929)"
      ]
    }
  ],
  "metadata": {
    "kernelspec": {
      "display_name": "Python 3 (ipykernel)",
      "language": "python",
      "name": "python3"
    },
    "language_info": {
      "codemirror_mode": {
        "name": "ipython",
        "version": 3
      },
      "file_extension": ".py",
      "mimetype": "text/x-python",
      "name": "python",
      "nbconvert_exporter": "python",
      "pygments_lexer": "ipython3",
      "version": "3.7.9"
    },
    "colab": {
      "provenance": []
    }
  },
  "nbformat": 4,
  "nbformat_minor": 0
}